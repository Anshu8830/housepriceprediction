{
  "nbformat": 4,
  "nbformat_minor": 0,
  "metadata": {
    "colab": {
      "name": "house_price_prediction.ipynb",
      "provenance": [],
      "authorship_tag": "ABX9TyN0ULg14j1Zmb6BM78EtLJ7",
      "include_colab_link": true
    },
    "kernelspec": {
      "name": "python3",
      "display_name": "Python 3"
    },
    "language_info": {
      "name": "python"
    }
  },
  "cells": [
    {
      "cell_type": "markdown",
      "metadata": {
        "id": "view-in-github",
        "colab_type": "text"
      },
      "source": [
        "<a href=\"https://colab.research.google.com/github/Anshu8830/housepriceprediction/blob/main/house_price_prediction.ipynb\" target=\"_parent\"><img src=\"https://colab.research.google.com/assets/colab-badge.svg\" alt=\"Open In Colab\"/></a>"
      ]
    },
    {
      "cell_type": "code",
      "execution_count": null,
      "metadata": {
        "colab": {
          "base_uri": "https://localhost:8080/"
        },
        "id": "qYOr2Jz5rJEC",
        "outputId": "2b99a542-1c74-4382-8183-581e7aa40f9c"
      },
      "outputs": [
        {
          "output_type": "stream",
          "name": "stderr",
          "text": [
            "/usr/local/lib/python3.7/dist-packages/ipykernel_launcher.py:51: FutureWarning: The default value of regex will change from True to False in a future version.\n"
          ]
        },
        {
          "output_type": "stream",
          "name": "stdout",
          "text": [
            "House Price Prediction for Silicon Valley of India - Bangalore\n",
            "Just Enter the following details and we will predict the price of your **Dream House**\n",
            "Only Enter Numeric Values in the Following Fields\n",
            "Total BHK\n"
          ]
        }
      ],
      "source": [
        "import pandas as pd\n",
        "import numpy as np\n",
        "import time\n",
        "from sklearn.preprocessing import StandardScaler\n",
        "from sklearn.linear_model import LinearRegression\n",
        "from sklearn.model_selection import train_test_split\n",
        "def main():\n",
        "  df = load_data()\n",
        "  df = preprocess_data(df)\n",
        "  print('House Price Prediction for Silicon Valley of India - Bangalore')\n",
        "  print('Just Enter the following details and we will predict the price of your **Dream House**')\n",
        "  print('Only Enter Numeric Values in the Following Fields')\n",
        "  print(\"Total BHK\")\n",
        "  bhk = int(input())\n",
        "  print(\"Area in Square Feet\")\n",
        "  area = int(input())\n",
        "  print(\"Total Bathrooms\")\n",
        "  baths = int(input())\n",
        "  print(\"Total Balcony, ['0', '1', '2', '3']\")\n",
        "  balcony = int(input())\n",
        "  submit = True\n",
        "  if submit:\n",
        "    if bhk and area and baths and balcony:\n",
        "      print('Predicting...')\n",
        "      time.sleep(2)\n",
        "      bhk, area, baths, balcony = int(bhk), int(area), int(baths), int(balcony)\n",
        "      x_test = np.array([[bhk, area, baths, balcony]])\n",
        "      prediction = predict(df, x_test)\n",
        "      print(\"Your **Dream House** Price is\",predict(df,x_test),\"lacs\")\n",
        "    else:\n",
        "      print('Please Enter All the Details Again')\n",
        "def train_model(df):\n",
        "  global scaler\n",
        "  X, y = df.iloc[:, :-1].values, df.iloc[:, -1].values\n",
        "  scaler = StandardScaler().fit(X)\n",
        "  X = scaler.transform(X)\n",
        "  X_train, X_test, y_train, y_test = train_test_split(X, y, test_size=0.2, random_state=23)\n",
        "  model = LinearRegression().fit(X_train, y_train)\n",
        "  return model, scaler\n",
        "def predict(df, x_test):\n",
        "  model, scaler = train_model(df)\n",
        "  X_test = scaler.transform(x_test)\n",
        "  y_pred = model.predict(X_test)\n",
        "  return round(y_pred[0], 2)\n",
        "def load_data():\n",
        "  return pd.read_csv('/content/Bengaluru_House_Data.csv')\n",
        "def preprocess_data(df):\n",
        "  df = df.loc[:, ['size', 'total_sqft', 'bath', 'balcony', 'price']]\n",
        "  df.dropna(inplace=True)\n",
        "  df = df[df['size'].str.contains('BHK', na=False)]\n",
        "  df['size'] = df['size'].str.replace(r'\\D', '').astype(int)\n",
        "  df['total_sqft'] = df['total_sqft'].str.extract(r'(\\d+)', expand=False)\n",
        "  df['bath'] = df['bath'].astype(int)\n",
        "  df['balcony'] = df['balcony'].astype(int)\n",
        "  df['total_sqft'] = df['total_sqft'].astype(int)\n",
        "  return df\n",
        "if __name__ == '__main__':\n",
        " main()\n"
      ]
    }
  ]
}